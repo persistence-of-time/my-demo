{
 "cells": [
  {
   "cell_type": "markdown",
   "id": "3fcf048a",
   "metadata": {},
   "source": [
    "# GitHub Test"
   ]
  },
  {
   "cell_type": "code",
   "execution_count": 1,
   "id": "e7091a62",
   "metadata": {},
   "outputs": [],
   "source": [
    "rent = 500\n",
    "income =1700\n"
   ]
  },
  {
   "cell_type": "code",
   "execution_count": 3,
   "id": "61948d75",
   "metadata": {},
   "outputs": [
    {
     "data": {
      "text/plain": [
       "29.411764705882355"
      ]
     },
     "execution_count": 3,
     "metadata": {},
     "output_type": "execute_result"
    }
   ],
   "source": [
    "rent_ptc = rent/income * 100\n",
    "rent_ptc"
   ]
  },
  {
   "cell_type": "code",
   "execution_count": 5,
   "id": "fdb5d37d",
   "metadata": {},
   "outputs": [
    {
     "name": "stdout",
     "output_type": "stream",
     "text": [
      "1\n",
      "2\n",
      "3\n",
      "4\n",
      "5\n",
      "6\n",
      "7\n"
     ]
    }
   ],
   "source": [
    "my_list = [1,2,3,4,5,6,7]\n",
    "for number in my_list:\n",
    "    print (number)"
   ]
  },
  {
   "cell_type": "markdown",
   "id": "11eded02",
   "metadata": {},
   "source": [
    "# Comparisons using logic and conditions"
   ]
  },
  {
   "cell_type": "code",
   "execution_count": 7,
   "id": "8ca10e83",
   "metadata": {},
   "outputs": [
    {
     "data": {
      "text/plain": [
       "False"
      ]
     },
     "execution_count": 7,
     "metadata": {},
     "output_type": "execute_result"
    }
   ],
   "source": [
    "# Create two simple variables\n",
    "x, y = 5, 10\n",
    "\n",
    "# Comparisons 1\n",
    "x > y "
   ]
  },
  {
   "cell_type": "code",
   "execution_count": 8,
   "id": "beb393cf",
   "metadata": {},
   "outputs": [
    {
     "data": {
      "text/plain": [
       "True"
      ]
     },
     "execution_count": 8,
     "metadata": {},
     "output_type": "execute_result"
    }
   ],
   "source": [
    "# Comparison 2\n",
    "x < y"
   ]
  },
  {
   "cell_type": "code",
   "execution_count": 9,
   "id": "e30ecc5c",
   "metadata": {},
   "outputs": [
    {
     "data": {
      "text/plain": [
       "False"
      ]
     },
     "execution_count": 9,
     "metadata": {},
     "output_type": "execute_result"
    }
   ],
   "source": [
    "# what is x equal to?\n",
    "x == y"
   ]
  },
  {
   "cell_type": "markdown",
   "id": "29340e13",
   "metadata": {},
   "source": [
    "A single equal sign is to assign a value and a double equal sign it is to check to see if he values are the same."
   ]
  },
  {
   "cell_type": "code",
   "execution_count": 10,
   "id": "d338e227",
   "metadata": {},
   "outputs": [],
   "source": [
    "# comparison \n",
    "\n",
    "x, y = 25, 25"
   ]
  },
  {
   "cell_type": "code",
   "execution_count": 12,
   "id": "97e8d81d",
   "metadata": {},
   "outputs": [
    {
     "data": {
      "text/plain": [
       "True"
      ]
     },
     "execution_count": 12,
     "metadata": {},
     "output_type": "execute_result"
    }
   ],
   "source": [
    "x == y"
   ]
  },
  {
   "cell_type": "code",
   "execution_count": 13,
   "id": "8e1f0395",
   "metadata": {},
   "outputs": [
    {
     "data": {
      "text/plain": [
       "True"
      ]
     },
     "execution_count": 13,
     "metadata": {},
     "output_type": "execute_result"
    }
   ],
   "source": [
    "# comparison 6 \n",
    "x <= y"
   ]
  },
  {
   "cell_type": "code",
   "execution_count": 14,
   "id": "b04bf764",
   "metadata": {},
   "outputs": [
    {
     "data": {
      "text/plain": [
       "True"
      ]
     },
     "execution_count": 14,
     "metadata": {},
     "output_type": "execute_result"
    }
   ],
   "source": [
    "x >= y"
   ]
  },
  {
   "cell_type": "code",
   "execution_count": 15,
   "id": "f0b1996e",
   "metadata": {},
   "outputs": [
    {
     "data": {
      "text/plain": [
       "True"
      ]
     },
     "execution_count": 15,
     "metadata": {},
     "output_type": "execute_result"
    }
   ],
   "source": [
    "x = 9\n",
    "y = 99\n",
    "x != y"
   ]
  },
  {
   "cell_type": "code",
   "execution_count": 16,
   "id": "cdf0c858",
   "metadata": {},
   "outputs": [],
   "source": [
    "# != is equal to \"not equal to\""
   ]
  },
  {
   "cell_type": "code",
   "execution_count": 21,
   "id": "08b8f3a4",
   "metadata": {},
   "outputs": [
    {
     "name": "stdout",
     "output_type": "stream",
     "text": [
      "Approved for loan\n"
     ]
    }
   ],
   "source": [
    "person_income = 200_000\n",
    "minimum_income = 100_001\n",
    "\n",
    "if person_income >= minimum_income:\n",
    "    decision = \"Approved for loan\"\n",
    "else:\n",
    "    decision = \"Decline for loan\" \n",
    "\n",
    "print (decision)"
   ]
  },
  {
   "cell_type": "code",
   "execution_count": 24,
   "id": "e251356f",
   "metadata": {},
   "outputs": [
    {
     "name": "stdout",
     "output_type": "stream",
     "text": [
      "Declined\n"
     ]
    }
   ],
   "source": [
    "## The code retrieves a data point. This is a racist algorithm: \n",
    "\n",
    "person_zip = \"11370\"\n",
    "high_risk_zip = \"11370\"\n",
    "\n",
    "if person_income >= minimum_income and person_zip == high_risk_zip:\n",
    "    decision = \"Declined\"\n",
    "else:\n",
    "    decision = \"Approved\"\n",
    "print(decision)\n"
   ]
  },
  {
   "cell_type": "code",
   "execution_count": 25,
   "id": "5f73b2fe",
   "metadata": {},
   "outputs": [],
   "source": [
    "# To interview the algorithm you can reverse engineer using the data that it was used to be trained and calibrated. \n",
    "# Algorithms are proprietary and its hard. \n"
   ]
  },
  {
   "cell_type": "markdown",
   "id": "0c5671d4",
   "metadata": {},
   "source": [
    "## Interrogate the Data"
   ]
  },
  {
   "cell_type": "code",
   "execution_count": null,
   "id": "93aabe86",
   "metadata": {},
   "outputs": [],
   "source": [
    "# 1. The basic statitical questions: What is teh ma? The min? Whats at the extreme? mean media?\n",
    "\n",
    "#2. Change over time: how has some factor changed increased or decreased over time. How has it chaged over regions?\n",
    "\n",
    "#3. Start wide and drill down narrow: Is there a larger trend that can be localized to a smaller area or group?\n",
    "\n",
    "#4. Start narrow and zoom out wider: If there's a trend in a smaller area, is it also occurring in a larger area\n",
    "    # an entire city\n",
    "# 5. highlight contrast: how different are the highs and lows? Where is something happening the most v. happening the least?\n",
    "#    How have related values diverse or convereged? \n",
    "\n",
    "#6. Diverging Factors: How is one variable growth or decline affecting another varialbe? \n",
    "#7. Profile the outliers: Why something just so diffrent from the others?\n",
    "#8. Cross reference: Can i cross-reference one datasets with anotehr for some valuables insights? "
   ]
  }
 ],
 "metadata": {
  "kernelspec": {
   "display_name": "Python 3 (ipykernel)",
   "language": "python",
   "name": "python3"
  },
  "language_info": {
   "codemirror_mode": {
    "name": "ipython",
    "version": 3
   },
   "file_extension": ".py",
   "mimetype": "text/x-python",
   "name": "python",
   "nbconvert_exporter": "python",
   "pygments_lexer": "ipython3",
   "version": "3.9.7"
  }
 },
 "nbformat": 4,
 "nbformat_minor": 5
}
