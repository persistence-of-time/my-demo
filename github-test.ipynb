{
 "cells": [
  {
   "cell_type": "markdown",
   "id": "d9e4d083",
   "metadata": {},
   "source": [
    "# GitHub Test"
   ]
  },
  {
   "cell_type": "code",
   "execution_count": 1,
   "id": "4f08ece5",
   "metadata": {},
   "outputs": [],
   "source": [
    "rent = 500\n",
    "income =1700\n"
   ]
  },
  {
   "cell_type": "code",
   "execution_count": 3,
   "id": "a5f33619",
   "metadata": {},
   "outputs": [
    {
     "data": {
      "text/plain": [
       "29.411764705882355"
      ]
     },
     "execution_count": 3,
     "metadata": {},
     "output_type": "execute_result"
    }
   ],
   "source": [
    "rent_ptc = rent/income * 100\n",
    "rent_ptc"
   ]
  },
  {
   "cell_type": "code",
   "execution_count": null,
   "id": "dfa0af77",
   "metadata": {},
   "outputs": [],
   "source": []
  }
 ],
 "metadata": {
  "kernelspec": {
   "display_name": "Python 3 (ipykernel)",
   "language": "python",
   "name": "python3"
  },
  "language_info": {
   "codemirror_mode": {
    "name": "ipython",
    "version": 3
   },
   "file_extension": ".py",
   "mimetype": "text/x-python",
   "name": "python",
   "nbconvert_exporter": "python",
   "pygments_lexer": "ipython3",
   "version": "3.9.7"
  }
 },
 "nbformat": 4,
 "nbformat_minor": 5
}
