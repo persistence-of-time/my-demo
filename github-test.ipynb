{
 "cells": [
  {
   "cell_type": "markdown",
   "id": "163abb97",
   "metadata": {},
   "source": [
    "# GitHub Test"
   ]
  },
  {
   "cell_type": "code",
   "execution_count": 1,
   "id": "a5ba43ab",
   "metadata": {},
   "outputs": [],
   "source": [
    "rent = 500\n",
    "income =1700\n"
   ]
  },
  {
   "cell_type": "code",
   "execution_count": 3,
   "id": "95a38e9e",
   "metadata": {},
   "outputs": [
    {
     "data": {
      "text/plain": [
       "29.411764705882355"
      ]
     },
     "execution_count": 3,
     "metadata": {},
     "output_type": "execute_result"
    }
   ],
   "source": [
    "rent_ptc = rent/income * 100\n",
    "rent_ptc"
   ]
  },
  {
   "cell_type": "code",
   "execution_count": 5,
   "id": "db9f8446",
   "metadata": {},
   "outputs": [
    {
     "name": "stdout",
     "output_type": "stream",
     "text": [
      "1\n",
      "2\n",
      "3\n",
      "4\n",
      "5\n",
      "6\n",
      "7\n"
     ]
    }
   ],
   "source": [
    "my_list = [1,2,3,4,5,6,7]\n",
    "for number in my_list:\n",
    "    print (number)"
   ]
  },
  {
   "cell_type": "code",
   "execution_count": null,
   "id": "6078c388",
   "metadata": {},
   "outputs": [],
   "source": []
  }
 ],
 "metadata": {
  "kernelspec": {
   "display_name": "Python 3 (ipykernel)",
   "language": "python",
   "name": "python3"
  },
  "language_info": {
   "codemirror_mode": {
    "name": "ipython",
    "version": 3
   },
   "file_extension": ".py",
   "mimetype": "text/x-python",
   "name": "python",
   "nbconvert_exporter": "python",
   "pygments_lexer": "ipython3",
   "version": "3.9.7"
  }
 },
 "nbformat": 4,
 "nbformat_minor": 5
}
